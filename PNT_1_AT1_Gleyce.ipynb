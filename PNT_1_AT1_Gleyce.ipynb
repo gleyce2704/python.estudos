{
  "nbformat": 4,
  "nbformat_minor": 0,
  "metadata": {
    "colab": {
      "provenance": [],
      "authorship_tag": "ABX9TyNqL1LG3zo3+ybRaOemLLLf",
      "include_colab_link": true
    },
    "kernelspec": {
      "name": "python3",
      "display_name": "Python 3"
    },
    "language_info": {
      "name": "python"
    }
  },
  "cells": [
    {
      "cell_type": "markdown",
      "metadata": {
        "id": "view-in-github",
        "colab_type": "text"
      },
      "source": [
        "<a href=\"https://colab.research.google.com/github/gleyce2704/python.estudos/blob/main/PNT_1_AT1_Gleyce.ipynb\" target=\"_parent\"><img src=\"https://colab.research.google.com/assets/colab-badge.svg\" alt=\"Open In Colab\"/></a>"
      ]
    },
    {
      "cell_type": "code",
      "execution_count": 8,
      "metadata": {
        "colab": {
          "base_uri": "https://localhost:8080/"
        },
        "id": "Kyf6pvey9lrk",
        "outputId": "c9ecde63-cb0e-4079-c456-1dfc4dc9c289"
      },
      "outputs": [
        {
          "output_type": "stream",
          "name": "stdout",
          "text": [
            "Olá ETE CÍCERO DIAS!\n"
          ]
        }
      ],
      "source": [
        "# ETE CÍCERO DIAS\n",
        "# DOCENTE: CLOVES ROCHA\n",
        "# ESTUDANTE: GLEYCE MARA DE FÁTIMA OLIVEIRA\n",
        "\n",
        "#1. Faça um CÓDIGO que mostre a mensagem \"Olá ETE CÍCERO DIAS!\" na tela.\n",
        "\n",
        "mensagem = ('Olá ETE CÍCERO DIAS!')\n",
        "print(mensagem)\n"
      ]
    },
    {
      "cell_type": "code",
      "source": [
        "#2. Faça um CÓDIGO que peça um número e então mostre a mensagem O número informado foi [número].\n",
        "\n",
        "numero = input('Digite um número: ')\n",
        "print('O número informado foi', numero, '.')"
      ],
      "metadata": {
        "colab": {
          "base_uri": "https://localhost:8080/"
        },
        "id": "Eft43fqUBl96",
        "outputId": "92de36f5-2a38-41aa-9507-0716cee0d1ac"
      },
      "execution_count": 12,
      "outputs": [
        {
          "output_type": "stream",
          "name": "stdout",
          "text": [
            "Digite um número: 5\n",
            "O número informado foi 5 .\n"
          ]
        }
      ]
    },
    {
      "cell_type": "code",
      "source": [
        "#3. Faça um CÓDIGO que peça dois números e imprima a soma.\n",
        "\n",
        "numero1 = float(input('Digite o primeiro número: '))\n",
        "numero2 = float(input('Digite o segundo número: '))\n",
        "soma = (numero1 + numero2)\n",
        "print ('A soma dos números informados é', soma, '.' )"
      ],
      "metadata": {
        "colab": {
          "base_uri": "https://localhost:8080/"
        },
        "id": "SAvbJN4NDrmj",
        "outputId": "b888d750-b736-427c-8520-4d2847ed6a6e"
      },
      "execution_count": 18,
      "outputs": [
        {
          "output_type": "stream",
          "name": "stdout",
          "text": [
            "Digite o primeiro número: 5\n",
            "Digite o segundo número: 5\n",
            "A soma dos números informados é 10.0 .\n"
          ]
        }
      ]
    },
    {
      "cell_type": "code",
      "source": [
        "#4. Faça um CÓDIGO que peça as 4 notas bimestrais e mostre a média final.\n",
        "\n",
        "nota1 = float(input('Digite a primeira nota: '))\n",
        "nota2 = float(input('Digite a segunda nota: '))\n",
        "nota3 = float(input('Digite a terceira nota: '))\n",
        "nota4 = float(input('Digite a quarta nota: '))\n",
        "\n",
        "media = (nota1 + nota2 + nota3 + nota4) / 4\n",
        "\n",
        "print('A média final é:', media)"
      ],
      "metadata": {
        "colab": {
          "base_uri": "https://localhost:8080/"
        },
        "id": "ixPDYBlVEqu0",
        "outputId": "7daa7b9c-cc56-4581-abe4-6bc6a1975e8d"
      },
      "execution_count": 20,
      "outputs": [
        {
          "output_type": "stream",
          "name": "stdout",
          "text": [
            "Digite a primeira nota: 5\n",
            "Digite a segunda nota: 5\n",
            "Digite a terceira nota: 5\n",
            "Digite a quarta nota: 5\n",
            "A média final é: 5.0\n"
          ]
        }
      ]
    },
    {
      "cell_type": "code",
      "source": [
        "#5. Faça um CÓDIGO que converta metros para centímetros.\n",
        "\n",
        "metros = float(input('Digite o valor em metros: '))\n",
        "\n",
        "centimetros = metros * 100\n",
        "\n",
        "print ('O valor em centímetros é', centimetros, '.' )"
      ],
      "metadata": {
        "colab": {
          "base_uri": "https://localhost:8080/"
        },
        "id": "vZx1RFS0HD6y",
        "outputId": "4205176f-7369-4c66-cb0a-2c17eff31d13"
      },
      "execution_count": 21,
      "outputs": [
        {
          "output_type": "stream",
          "name": "stdout",
          "text": [
            "Digite o valor em metros: 5\n",
            "O valor em centímetros é 500.0 .\n"
          ]
        }
      ]
    },
    {
      "cell_type": "code",
      "source": [
        "#6. Faça um CÓDIGO que peça o raio de um círculo, calcule e mostre sua área.\n",
        "\n",
        "import math\n",
        "\n",
        "raio = float(input('Digite o raio do círculo:'))\n",
        "\n",
        "area = math.pi * raio**2\n",
        "print('A área do círculo é:', area)"
      ],
      "metadata": {
        "colab": {
          "base_uri": "https://localhost:8080/"
        },
        "id": "YyegEVMjHZ05",
        "outputId": "746faecc-22c0-403e-e405-b942a6065bde"
      },
      "execution_count": 23,
      "outputs": [
        {
          "output_type": "stream",
          "name": "stdout",
          "text": [
            "Digite o raio do círculo:5\n",
            "A área do círculo é: 78.53981633974483\n"
          ]
        }
      ]
    },
    {
      "cell_type": "code",
      "source": [
        "#7. Faça um CÓDIGO que calcule a área de um quadrado, em seguida mostre o dobro desta área para o usuário.\n",
        "\n",
        "lado = float(input('Digite o valor do lado do quadrado: '))\n",
        "\n",
        "area = lado ** 2\n",
        "print('A área do quadrado é:', area)\n",
        "\n",
        "dobro_area = 2 * area\n",
        "print('O dobro da área é:', dobro_area)"
      ],
      "metadata": {
        "colab": {
          "base_uri": "https://localhost:8080/"
        },
        "id": "iaQ4ClzIIreB",
        "outputId": "e5bd24f0-0a54-4399-b9ce-d0ce7ecdaccd"
      },
      "execution_count": 25,
      "outputs": [
        {
          "output_type": "stream",
          "name": "stdout",
          "text": [
            "Digite o valor do lado do quadrado: 5\n",
            "A área do quadrado é: 25.0\n",
            "O dobro da área é: 50.0\n"
          ]
        }
      ]
    },
    {
      "cell_type": "code",
      "source": [
        "#8. Faça um CÓDIGO que pergunte quanto você ganha por hora e o número de horas trabalhadas no mês.\n",
        "#   Calcule e mostre o total do seu salário no referido mês.\n",
        "\n",
        "valor_hora = float(input('Digite o valor do seu salário por hora: '))\n",
        "horas_trabalhadas = float(input('Digite o número de horas trabalhadas no mês: '))\n",
        "\n",
        "salario_mensal = valor_hora * horas_trabalhadas\n",
        "\n",
        "print('Seu salário mensal é:', salario_mensal)\n",
        "\n"
      ],
      "metadata": {
        "colab": {
          "base_uri": "https://localhost:8080/"
        },
        "id": "o2Kfah7FJX_v",
        "outputId": "df42940f-9a87-4e15-abe9-8c40932b3310"
      },
      "execution_count": 26,
      "outputs": [
        {
          "output_type": "stream",
          "name": "stdout",
          "text": [
            "Digite o valor do seu salário por hora: 30\n",
            "Digite o número de horas trabalhadas no mês: 150\n",
            "Seu salário mensal é: 4500.0\n"
          ]
        }
      ]
    },
    {
      "cell_type": "code",
      "source": [
        "#9. Faça um CÓDIGO que peça um valor e mostre na tela se o valor é positivo ou negativo.\n",
        "\n",
        "valor = float(input('Digite um valor: '))\n",
        "\n",
        "if valor > 0:\n",
        "    print('O valor é positivo.')\n",
        "elif valor < 0:\n",
        "    print('O valor é negativo.')\n",
        "else:\n",
        "    print('O valor é zero.')\n"
      ],
      "metadata": {
        "colab": {
          "base_uri": "https://localhost:8080/"
        },
        "id": "nHcnCdxlJ31-",
        "outputId": "f34c35bf-331d-4ed2-95f6-23015a0dc6e9"
      },
      "execution_count": 29,
      "outputs": [
        {
          "output_type": "stream",
          "name": "stdout",
          "text": [
            "Digite um valor: 5\n",
            "O valor é positivo.\n"
          ]
        }
      ]
    },
    {
      "cell_type": "code",
      "source": [
        "#10. Faça um CÓDIGO que verifique se uma letra digitada é \"F\" ou \"M\".\n",
        "# Conforme a letra escrever: F - Feminino, M - Masculino, Sexo Inválido.\n",
        "\n",
        "letra = input('Digite uma letra: ')\n",
        "\n",
        "if letra == 'F' or letra == 'f':\n",
        "    print('F - Feminino')\n",
        "elif letra == 'M' or letra == 'm':\n",
        "    print('M - Masculino')\n",
        "else:\n",
        "    print('Sexo Inválido')\n"
      ],
      "metadata": {
        "colab": {
          "base_uri": "https://localhost:8080/"
        },
        "id": "hPOap9d_KPD2",
        "outputId": "8aaa7ac1-d6b5-484b-d20c-9553118a5e1c"
      },
      "execution_count": 33,
      "outputs": [
        {
          "output_type": "stream",
          "name": "stdout",
          "text": [
            "Digite uma letra: I\n",
            "Sexo Inválido\n"
          ]
        }
      ]
    }
  ]
}