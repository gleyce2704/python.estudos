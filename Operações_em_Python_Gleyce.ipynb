{
  "nbformat": 4,
  "nbformat_minor": 0,
  "metadata": {
    "colab": {
      "provenance": [],
      "authorship_tag": "ABX9TyMP2x7Xn7lQC2C6+jjExVLK",
      "include_colab_link": true
    },
    "kernelspec": {
      "name": "python3",
      "display_name": "Python 3"
    },
    "language_info": {
      "name": "python"
    }
  },
  "cells": [
    {
      "cell_type": "markdown",
      "metadata": {
        "id": "view-in-github",
        "colab_type": "text"
      },
      "source": [
        "<a href=\"https://colab.research.google.com/github/gleyce2704/python.estudos/blob/main/Opera%C3%A7%C3%B5es_em_Python_Gleyce.ipynb\" target=\"_parent\"><img src=\"https://colab.research.google.com/assets/colab-badge.svg\" alt=\"Open In Colab\"/></a>"
      ]
    },
    {
      "cell_type": "code",
      "execution_count": 17,
      "metadata": {
        "colab": {
          "base_uri": "https://localhost:8080/"
        },
        "id": "9ZbJVGFdgTyj",
        "outputId": "bbac1f6f-48ae-4582-9ef4-4b3bb6485008"
      },
      "outputs": [
        {
          "output_type": "stream",
          "name": "stdout",
          "text": [
            "Digite seu nome: Gleyce \n",
            "Seu nome é Gleyce .\n",
            "<class 'str'>\n",
            "Digite sua idade: 31\n",
            "Você tem 31 anos.\n",
            "<class 'int'>\n",
            "Digite seu peso: 71\n",
            "Você pesa 71.0KGs\n",
            "<class 'float'>\n"
          ]
        }
      ],
      "source": [
        "# ETE CÍCERO DIAS\n",
        "# DOCENTE: CLOVES ROCHA\n",
        "# ESTUDANTE: GLEYCE MARA DE FÁTIMA OLIVEIRA\n",
        "# PNT - Operadores e Função input com int ou float.\n",
        "\n",
        "nome = input('Digite seu nome: ')\n",
        "print(f'Seu nome é {nome}.')\n",
        "print(type(nome))\n",
        "\n",
        "idade = int(input('Digite sua idade: '))\n",
        "print(f'Você tem {idade} anos.')\n",
        "print(type(idade))\n",
        "\n",
        "peso = float(input('Digite seu peso: '))\n",
        "print(f'Você pesa {peso}KGs')\n",
        "print(type(peso))"
      ]
    },
    {
      "cell_type": "code",
      "source": [
        "# 3. Operadores Aritméticos - Python\n",
        "#soma = a + b\n",
        "#subtracao = a - b\n",
        "#multiplicacao = a * b\n",
        "#divisao = a / b\n",
        "#parte_inteira = a // b\n",
        "#modulo = a % b\n",
        "#exponenciacao = a ** b\n",
        "\n",
        "c = (2 ** 3)\n",
        "print(c)\n",
        "print(type(c))\n",
        "\n",
        "d = (10 + 1)\n",
        "print(d)\n",
        "print(type(d))\n",
        "\n",
        "e = (10 - 1)\n",
        "print(e)\n",
        "print(type(e))\n",
        "\n",
        "f = (4 * 5)\n",
        "print(f)\n",
        "print(type(f))\n",
        "\n",
        "g = (10 / 3)\n",
        "print(g)\n",
        "print(type(g))\n",
        "\n",
        "h = (10 // 3)\n",
        "print(h)\n",
        "print(type(h))\n",
        "\n",
        "i = (2 ** 3)\n",
        "print(i)\n",
        "print(type(i))\n",
        "\n",
        "j = (13 % 2)\n",
        "print(j)\n",
        "print(type(j))"
      ],
      "metadata": {
        "colab": {
          "base_uri": "https://localhost:8080/"
        },
        "id": "VAaw_-Teg9N2",
        "outputId": "97a8a067-150a-4d40-c314-8b9e0b169332"
      },
      "execution_count": null,
      "outputs": [
        {
          "output_type": "stream",
          "name": "stdout",
          "text": [
            "8\n",
            "<class 'int'>\n",
            "11\n",
            "<class 'int'>\n",
            "9\n",
            "<class 'int'>\n",
            "20\n",
            "<class 'int'>\n",
            "3.3333333333333335\n",
            "<class 'float'>\n",
            "3\n",
            "<class 'int'>\n",
            "8\n",
            "<class 'int'>\n",
            "1\n",
            "<class 'int'>\n"
          ]
        }
      ]
    },
    {
      "cell_type": "code",
      "source": [
        "# 4. Operadores Relacionais Simples.\n",
        "#x == y igual\n",
        "#x != y diferente\n",
        "#maiorque = x > y\n",
        "#menorque = x < y\n",
        "#maior_ou_igual_que = (x >= y)\n",
        "#menor_ou_igual_que = (x <= y)\n",
        "\n",
        "# 7 > 5\n",
        "x = 7\n",
        "y = 5\n",
        "print(x > y)\n",
        "print(type(x > y))\n",
        "\n",
        "# 10 < 15\n",
        "x = 10\n",
        "y = 15\n",
        "print(x < y)\n",
        "print(type(x < y))"
      ],
      "metadata": {
        "colab": {
          "base_uri": "https://localhost:8080/"
        },
        "id": "MVLVLFahjTx4",
        "outputId": "1d0ab991-f486-4ce7-b217-d275717ad7b7"
      },
      "execution_count": null,
      "outputs": [
        {
          "output_type": "stream",
          "name": "stdout",
          "text": [
            "True\n",
            "<class 'bool'>\n",
            "True\n",
            "<class 'bool'>\n"
          ]
        }
      ]
    },
    {
      "cell_type": "code",
      "source": [
        "# 5. Operadores Relacionais Compostos.\n",
        "# >= Maior ou igual a\n",
        "# <= Menor ou igual a\n",
        "# != Diferente de\n",
        "\n",
        "# Execução das operações relacionais compostas e a mensagem apropriada\n",
        "nota1 = int(input('Digite nota 1: '))\n",
        "nota2 = int(input('Digite nota 2: '))\n",
        "\n",
        "resultado = (nota1 >= nota2)\n",
        "\n",
        "if resultado:\n",
        "    print('Estudante aprovado!')\n",
        "    print(type(resultado))\n",
        "else:\n",
        "    print('Estudante reprovado!')\n",
        "\n",
        "# 7 >= 6\n",
        "7 >= 6\n",
        "print (7 >= 6)\n",
        "print(type(7 >= 6))\n",
        "\n",
        "\n",
        "# 7 <= 10\n",
        "7 <= 10\n",
        "print (7 <= 10)\n",
        "print(type(7 <= 10))\n",
        "\n",
        "a = 10\n",
        "b = 9\n",
        "a != b\n",
        "print (a != b)\n",
        "print(type(a != b))\n",
        "\n",
        "na = 10\n",
        "nb = 6\n",
        "nc = 8\n",
        "nd = 91\n",
        "na >= nb\n",
        "print(type(na >= nb))"
      ],
      "metadata": {
        "colab": {
          "base_uri": "https://localhost:8080/"
        },
        "id": "TQ5ZZbrMoKP8",
        "outputId": "33edab1d-62d4-4531-f66f-8a3a1b3b850e"
      },
      "execution_count": 16,
      "outputs": [
        {
          "output_type": "stream",
          "name": "stdout",
          "text": [
            "Digite nota 1: 10\n",
            "Digite nota 2: 6\n",
            "Estudante aprovado!\n",
            "<class 'bool'>\n",
            "True\n",
            "<class 'bool'>\n",
            "True\n",
            "<class 'bool'>\n",
            "True\n",
            "<class 'bool'>\n",
            "<class 'bool'>\n"
          ]
        }
      ]
    }
  ]
}