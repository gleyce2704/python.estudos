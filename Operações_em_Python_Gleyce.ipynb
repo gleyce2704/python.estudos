{
  "nbformat": 4,
  "nbformat_minor": 0,
  "metadata": {
    "colab": {
      "provenance": [],
      "authorship_tag": "ABX9TyP4xx9bq7IFQ4/YSUxkPFP/",
      "include_colab_link": true
    },
    "kernelspec": {
      "name": "python3",
      "display_name": "Python 3"
    },
    "language_info": {
      "name": "python"
    }
  },
  "cells": [
    {
      "cell_type": "markdown",
      "metadata": {
        "id": "view-in-github",
        "colab_type": "text"
      },
      "source": [
        "<a href=\"https://colab.research.google.com/github/gleyce2704/python.estudos/blob/main/Opera%C3%A7%C3%B5es_em_Python_Gleyce.ipynb\" target=\"_parent\"><img src=\"https://colab.research.google.com/assets/colab-badge.svg\" alt=\"Open In Colab\"/></a>"
      ]
    },
    {
      "cell_type": "code",
      "execution_count": 20,
      "metadata": {
        "colab": {
          "base_uri": "https://localhost:8080/"
        },
        "id": "9ZbJVGFdgTyj",
        "outputId": "46fdf94d-f21b-437d-de67-1942b88a2a91"
      },
      "outputs": [
        {
          "output_type": "stream",
          "name": "stdout",
          "text": [
            "Digite seu nome: Gleyce\n",
            "Seu nome é Gleyce.\n",
            "<class 'str'>\n",
            "Digite sua idade: 31\n",
            "Você tem 31 anos.\n",
            "<class 'int'>\n",
            "Digite seu peso: 71\n",
            "Você pesa 71.0KGs\n",
            "<class 'float'>\n"
          ]
        }
      ],
      "source": [
        "7# ETE CÍCERO DIAS\n",
        "# DOCENTE: CLOVES ROCHA\n",
        "# ESTUDANTE: GLEYCE MARA DE FÁTIMA OLIVEIRA\n",
        "# PNT - Operadores e Função input com int ou float.\n",
        "\n",
        "nome = input('Digite seu nome: ')\n",
        "print(f'Seu nome é {nome}.')\n",
        "print(type(nome))\n",
        "\n",
        "idade = int(input('Digite sua idade: '))\n",
        "print(f'Você tem {idade} anos.')\n",
        "print(type(idade))\n",
        "\n",
        "peso = float(input('Digite seu peso: '))\n",
        "print(f'Você pesa {peso}KGs')\n",
        "print(type(peso))"
      ]
    },
    {
      "cell_type": "code",
      "source": [
        "# 3. Operadores Aritméticos - Python\n",
        "#soma = a + b\n",
        "#subtracao = a - b\n",
        "#multiplicacao = a * b\n",
        "#divisao = a / b\n",
        "#parte_inteira = a // b\n",
        "#modulo = a % b\n",
        "#exponenciacao = a ** b\n",
        "\n",
        "c = (2 ** 3)\n",
        "print(c)\n",
        "print(type(c))\n",
        "\n",
        "d = (10 + 1)\n",
        "print(d)\n",
        "print(type(d))\n",
        "\n",
        "e = (10 - 1)\n",
        "print(e)\n",
        "print(type(e))\n",
        "\n",
        "f = (4 * 5)\n",
        "print(f)\n",
        "print(type(f))\n",
        "\n",
        "g = (10 / 3)\n",
        "print(g)\n",
        "print(type(g))\n",
        "\n",
        "h = (10 // 3)\n",
        "print(h)\n",
        "print(type(h))\n",
        "\n",
        "i = (2 ** 3)\n",
        "print(i)\n",
        "print(type(i))\n",
        "\n",
        "j = (13 % 2)\n",
        "print(j)\n",
        "print(type(j))"
      ],
      "metadata": {
        "colab": {
          "base_uri": "https://localhost:8080/"
        },
        "id": "VAaw_-Teg9N2",
        "outputId": "97a8a067-150a-4d40-c314-8b9e0b169332"
      },
      "execution_count": null,
      "outputs": [
        {
          "output_type": "stream",
          "name": "stdout",
          "text": [
            "8\n",
            "<class 'int'>\n",
            "11\n",
            "<class 'int'>\n",
            "9\n",
            "<class 'int'>\n",
            "20\n",
            "<class 'int'>\n",
            "3.3333333333333335\n",
            "<class 'float'>\n",
            "3\n",
            "<class 'int'>\n",
            "8\n",
            "<class 'int'>\n",
            "1\n",
            "<class 'int'>\n"
          ]
        }
      ]
    },
    {
      "cell_type": "code",
      "source": [
        "# 4. Operadores Relacionais Simples.\n",
        "#x == y igual\n",
        "#x != y diferente\n",
        "#maiorque = x > y\n",
        "#menorque = x < y\n",
        "#maior_ou_igual_que = (x >= y)\n",
        "#menor_ou_igual_que = (x <= y)\n",
        "\n",
        "# 7 > 5\n",
        "x = 7\n",
        "y = 5\n",
        "print(x > y)\n",
        "print(type(x > y))\n",
        "\n",
        "# 10 < 15\n",
        "x = 10\n",
        "y = 15\n",
        "print(x < y)\n",
        "print(type(x < y))"
      ],
      "metadata": {
        "colab": {
          "base_uri": "https://localhost:8080/"
        },
        "id": "MVLVLFahjTx4",
        "outputId": "1d0ab991-f486-4ce7-b217-d275717ad7b7"
      },
      "execution_count": null,
      "outputs": [
        {
          "output_type": "stream",
          "name": "stdout",
          "text": [
            "True\n",
            "<class 'bool'>\n",
            "True\n",
            "<class 'bool'>\n"
          ]
        }
      ]
    },
    {
      "cell_type": "code",
      "source": [
        "# 5. Operadores Relacionais Compostos.\n",
        "# >= Maior ou igual a\n",
        "# <= Menor ou igual a\n",
        "# != Diferente de\n",
        "# Variáveis\n",
        "na = 10\n",
        "nb = 6\n",
        "nc = 8\n",
        "nd = 9\n",
        "\n",
        "# Execução das operações relacionais compostas e a mensagem apropriada\n",
        "resultado = (na >= nb)\n",
        "\n",
        "if resultado:\n",
        "    print('Estudante aprovado!')\n",
        "    print(type(resultado))\n",
        "else:\n",
        "    print('Estudante reprovado!')\n",
        "\n",
        "# 7 >= 6\n",
        "7 >= 6\n",
        "print (7 >= 6)\n",
        "print(type(7 >= 6))\n",
        "\n",
        "\n",
        "# 7 <= 10\n",
        "7 <= 10\n",
        "print (7 <= 10)\n",
        "print(type(7 <= 10))\n",
        "\n",
        "a = 10\n",
        "b = 9\n",
        "a != b\n",
        "print (a != b)\n",
        "print(type(a != b))"
      ],
      "metadata": {
        "colab": {
          "base_uri": "https://localhost:8080/"
        },
        "id": "TQ5ZZbrMoKP8",
        "outputId": "c6eb9ac2-2584-4ff9-a7b3-769addd907dd"
      },
      "execution_count": 18,
      "outputs": [
        {
          "output_type": "stream",
          "name": "stdout",
          "text": [
            "Estudante reprovado!\n",
            "True\n",
            "<class 'bool'>\n",
            "True\n",
            "<class 'bool'>\n",
            "True\n",
            "<class 'bool'>\n"
          ]
        }
      ]
    }
  ]
}