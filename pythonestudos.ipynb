{
  "nbformat": 4,
  "nbformat_minor": 0,
  "metadata": {
    "colab": {
      "provenance": []
    },
    "kernelspec": {
      "name": "python3",
      "display_name": "Python 3"
    },
    "language_info": {
      "name": "python"
    }
  },
  "cells": [
    {
      "cell_type": "code",
      "execution_count": null,
      "metadata": {
        "id": "U3IK390r3gBP"
      },
      "outputs": [],
      "source": [
        "# ETE CICERO DIAS\n",
        "# DOCENTE: CLOVES\n",
        "#ESTUDANTE: GLEYCE MARA DE FÁTIMA OLIVEIRA\n",
        "#print ('Cloves')\n",
        "# Tipos Primitivos de Dados\n",
        "d = 'dados'\n",
        "print(type(d))"
      ]
    }
  ]
}