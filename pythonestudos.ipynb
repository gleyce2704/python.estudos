{
  "nbformat": 4,
  "nbformat_minor": 0,
  "metadata": {
    "colab": {
      "provenance": [],
      "authorship_tag": "ABX9TyMbkI8XQHN4TmC8EZTrryFV",
      "include_colab_link": true
    },
    "kernelspec": {
      "name": "python3",
      "display_name": "Python 3"
    },
    "language_info": {
      "name": "python"
    }
  },
  "cells": [
    {
      "cell_type": "markdown",
      "metadata": {
        "id": "view-in-github",
        "colab_type": "text"
      },
      "source": [
        "<a href=\"https://colab.research.google.com/github/gleyce2704/python.estudos/blob/main/pythonestudos.ipynb\" target=\"_parent\"><img src=\"https://colab.research.google.com/assets/colab-badge.svg\" alt=\"Open In Colab\"/></a>"
      ]
    },
    {
      "cell_type": "code",
      "execution_count": 1,
      "metadata": {
        "colab": {
          "base_uri": "https://localhost:8080/"
        },
        "id": "U3IK390r3gBP",
        "outputId": "a0858c49-05da-48dd-b0ee-4f8709709281"
      },
      "outputs": [
        {
          "output_type": "stream",
          "name": "stdout",
          "text": [
            "<class 'int'>\n"
          ]
        }
      ],
      "source": [
        "#ETE CICERO DIAS\n",
        "#DOCENTE: CLOVES\n",
        "#ESTUDANTE: GLEYCE MARA DE FÁTIMA OLIVEIRA\n",
        "#print ('Cloves')\n",
        "# Tipos Primitivos de Dados\n",
        "c = 10\n",
        "print(type(c))"
      ]
    }
  ]
}