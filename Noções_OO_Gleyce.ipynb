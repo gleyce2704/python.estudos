{
  "nbformat": 4,
  "nbformat_minor": 0,
  "metadata": {
    "colab": {
      "provenance": [],
      "authorship_tag": "ABX9TyPEoNSIGjBJ982xBMH/8sQJ",
      "include_colab_link": true
    },
    "kernelspec": {
      "name": "python3",
      "display_name": "Python 3"
    },
    "language_info": {
      "name": "python"
    }
  },
  "cells": [
    {
      "cell_type": "markdown",
      "metadata": {
        "id": "view-in-github",
        "colab_type": "text"
      },
      "source": [
        "<a href=\"https://colab.research.google.com/github/gleyce2704/python.estudos/blob/main/No%C3%A7%C3%B5es_OO_Gleyce.ipynb\" target=\"_parent\"><img src=\"https://colab.research.google.com/assets/colab-badge.svg\" alt=\"Open In Colab\"/></a>"
      ]
    },
    {
      "cell_type": "code",
      "execution_count": null,
      "metadata": {
        "id": "ecthJzH2HIQR",
        "colab": {
          "base_uri": "https://localhost:8080/"
        },
        "outputId": "5bd430f8-1721-4f93-d528-2ffdcc32c9ff"
      },
      "outputs": [
        {
          "output_type": "stream",
          "name": "stdout",
          "text": [
            "Gleyce\n",
            "102012398\n",
            "gleyce@gmail.com\n",
            "Olá, Gleyce, com cpf 102012398 e e-mail gleyce@gmail.com.\n"
          ]
        }
      ],
      "source": [
        "# ETE Cícero Dias\n",
        "# Prof.: Cloves Rocha\n",
        "# Pythom Noções OO\n",
        "# Estudante: Gleyce Mara de Fátima Oliveira\n",
        "\n",
        "class Pessoa:\n",
        "  def __init__(self, nome, cpf, email):\n",
        "     self.nome = nome\n",
        "     self.cpf = cpf\n",
        "     self.email = email\n",
        "\n",
        "  def apresentar(self):\n",
        "     return f\"Olá, {self.nome}, com cpf {self.cpf} e e-mail {self.email}.\"\n",
        "\n",
        "pessoa1 = Pessoa('Gleyce', 102012398, 'gleyce@gmail.com')\n",
        "\n",
        "# Acessando os atributos e método da instância\n",
        "print(pessoa1.nome)\n",
        "print(pessoa1.cpf)\n",
        "print(pessoa1.email)\n",
        "print(pessoa1.apresentar())"
      ]
    },
    {
      "cell_type": "code",
      "source": [
        "class Cadastro:\n",
        "  def __init__(self, nome, genero, idade, endereco, cpf):\n",
        "    self.nome = nome\n",
        "    self.genero = genero\n",
        "    self.idade = idade\n",
        "    self.endereco = endereco\n",
        "    self.cpf = cpf\n",
        "\n",
        "  def apresentar(self):\n",
        "    return f\"O nome é {self.nome}, do gênero {self.genero}, {self.idade} anos. Mora em {self.endereco}. E o cpf é {self.cpf}.\"\n",
        "\n",
        "# Criando uma instância\n",
        "pessoa1 = Cadastro(\"Maria\", \"Feminino\", 25, \"Rua Principal, 321\", 102012398)\n",
        "\n",
        "# Acessando os atributos e método da instância\n",
        "print(pessoa1.nome)\n",
        "print(pessoa1.genero)\n",
        "print(pessoa1.idade)\n",
        "print(pessoa1.endereco)\n",
        "print(pessoa1.cpf)\n",
        "print(pessoa1.apresentar())"
      ],
      "metadata": {
        "id": "K6gcy-HM0TJA",
        "colab": {
          "base_uri": "https://localhost:8080/"
        },
        "outputId": "ed9f7730-49ee-4aac-ee35-8723a4e53ae8"
      },
      "execution_count": 5,
      "outputs": [
        {
          "output_type": "stream",
          "name": "stdout",
          "text": [
            "Maria\n",
            "Feminino\n",
            "25\n",
            "Rua Principal, 321\n",
            "102012398\n",
            "O nome é Maria, do gênero Feminino, 25 anos. Mora em Rua Principal, 321. E o cpf é 102012398.\n"
          ]
        }
      ]
    },
    {
      "cell_type": "code",
      "source": [
        "class Chat:\n",
        "    def __init__(self, nome):\n",
        "        self.nome = nome\n",
        "        self.mensagens = []\n",
        "\n",
        "    def enviar_mensagem(self, remetente, mensagem):\n",
        "        nova_mensagem = Mensagem(remetente, mensagem)\n",
        "        self.mensagens.append(nova_mensagem)\n",
        "\n",
        "    def exibir_mensagens(self):\n",
        "        for mensagem in self.mensagens:\n",
        "            print(f\"{mensagem.remetente}: {mensagem.mensagem}\")\n",
        "\n",
        "class Mensagem:\n",
        "    def __init__(self, remetente, mensagem):\n",
        "        self.remetente = remetente\n",
        "        self.mensagem = mensagem\n",
        "\n",
        "# Exemplo de uso da classe Chat\n",
        "meu_chat = Chat(\"Sala de Chat\")\n",
        "\n",
        "meu_chat.enviar_mensagem(\"Usuario1\", \"Olá, pessoal!\")\n",
        "meu_chat.enviar_mensagem(\"Usuario2\", \"Oi! Como vocês estão?\")\n",
        "meu_chat.enviar_mensagem(\"Usuario3\", \"Tudo bem, obrigado!\")\n",
        "\n",
        "meu_chat.exibir_mensagens()\n",
        "\n"
      ],
      "metadata": {
        "colab": {
          "base_uri": "https://localhost:8080/"
        },
        "id": "KaDnzyvV_dAu",
        "outputId": "48b2dbca-e2a8-4e48-c107-7f365a06a8ac"
      },
      "execution_count": 6,
      "outputs": [
        {
          "output_type": "stream",
          "name": "stdout",
          "text": [
            "Usuario1: Olá, pessoal!\n",
            "Usuario2: Oi! Como vocês estão?\n",
            "Usuario3: Tudo bem, obrigado!\n"
          ]
        }
      ]
    },
    {
      "cell_type": "code",
      "source": [
        "class Boletim:\n",
        "    def __init__(self, numero, data, descricao, local, gravidade, status):\n",
        "        self.numero = numero\n",
        "        self.data = data\n",
        "        self.descricao = descricao\n",
        "        self.local = local\n",
        "        self.gravidade = gravidade\n",
        "        self.status = status\n",
        "\n",
        "    def atualizar_status(self, novo_status):\n",
        "        self.status = novo_status\n",
        "\n",
        "    def exibir_informacoes(self):\n",
        "        print(f\"Número do Boletim: {self.numero}\")\n",
        "        print(f\"Data: {self.data}\")\n",
        "        print(f\"Descrição: {self.descricao}\")\n",
        "        print(f\"Local: {self.local}\")\n",
        "        print(f\"Gravidade: {self.gravidade}\")\n",
        "        print(f\"Status: {self.status}\")\n",
        "\n",
        "# Exemplo de uso da classe Boletim\n",
        "boletim1 = Boletim(1, \"2023-10-30\", \"Roubo a mão armada\", \"Rua Principal\", \"Alta\", \"Em andamento\")\n",
        "boletim1.exibir_informacoes()\n",
        "\n",
        "# Atualizar o status do boletim\n",
        "boletim1.atualizar_status(\"Resolvido\")\n",
        "print(\"Novo status do Boletim:\")\n",
        "boletim1.exibir_informacoes()\n",
        "\n"
      ],
      "metadata": {
        "colab": {
          "base_uri": "https://localhost:8080/"
        },
        "id": "XV3evYzJRU-y",
        "outputId": "9bcef30a-b36d-4ab8-ce01-f859c11044b4"
      },
      "execution_count": 2,
      "outputs": [
        {
          "output_type": "stream",
          "name": "stdout",
          "text": [
            "Número do Boletim: 1\n",
            "Data: 2023-10-30\n",
            "Descrição: Roubo a mão armada\n",
            "Local: Rua Principal\n",
            "Gravidade: Alta\n",
            "Status: Em andamento\n",
            "Novo status do Boletim:\n",
            "Número do Boletim: 1\n",
            "Data: 2023-10-30\n",
            "Descrição: Roubo a mão armada\n",
            "Local: Rua Principal\n",
            "Gravidade: Alta\n",
            "Status: Resolvido\n"
          ]
        }
      ]
    },
    {
      "cell_type": "code",
      "source": [
        "class Forum:\n",
        "    def __init__(self, nome):\n",
        "        self.nome = nome\n",
        "        self.topicos = []\n",
        "\n",
        "    def criar_topico(self, titulo, conteudo, autor):\n",
        "        novo_topico = Topico(titulo, conteudo, autor)\n",
        "        self.topicos.append(novo_topico)\n",
        "        return novo_topico\n",
        "\n",
        "    def listar_topicos(self):\n",
        "        for topico in self.topicos:\n",
        "            print(f\"Título: {topico.titulo}\")\n",
        "            print(f\"Autor: {topico.autor}\")\n",
        "            print(f\"Conteúdo: {topico.conteudo}\\n\")\n",
        "\n",
        "class Topico:\n",
        "    def __init__(self, titulo, conteudo, autor):\n",
        "        self.titulo = titulo\n",
        "        self.conteudo = conteudo\n",
        "        self.autor = autor\n",
        "\n",
        "# Exemplo de uso da classe Forum\n",
        "meu_forum = Forum(\"Meu Fórum\")\n",
        "\n",
        "topico1 = meu_forum.criar_topico(\"Pergunta 1\", \"Qual é a linguagem de programação mais popular?\", \"Usuario1\")\n",
        "topico2 = meu_forum.criar_topico(\"Discussão 2\", \"Debata sobre o futuro da inteligência artificial.\", \"Usuario2\")\n",
        "\n",
        "meu_forum.listar_topicos()\n"
      ],
      "metadata": {
        "id": "nY3BKw1YZjn3",
        "colab": {
          "base_uri": "https://localhost:8080/"
        },
        "outputId": "f208f5bb-85f7-4485-f869-028fd330224f"
      },
      "execution_count": 4,
      "outputs": [
        {
          "output_type": "stream",
          "name": "stdout",
          "text": [
            "Título: Pergunta 1\n",
            "Autor: Usuario1\n",
            "Conteúdo: Qual é a linguagem de programação mais popular?\n",
            "\n",
            "Título: Discussão 2\n",
            "Autor: Usuario2\n",
            "Conteúdo: Debata sobre o futuro da inteligência artificial.\n",
            "\n"
          ]
        }
      ]
    }
  ]
}